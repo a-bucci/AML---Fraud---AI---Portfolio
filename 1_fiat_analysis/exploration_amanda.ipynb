{
 "cells": [
  {
   "cell_type": "markdown",
   "id": "23320928",
   "metadata": {},
   "source": [
    "# Análise Inicial de Transações - Projeto AML/Fraud\n",
    "Este notebook realiza a exploração inicial do dataset de transações simuladas."
   ]
  },
  {
   "cell_type": "code",
   "execution_count": null,
   "id": "9ebf13df",
   "metadata": {},
   "outputs": [],
   "source": [
    "import pandas as pd\n",
    "import matplotlib.pyplot as plt\n",
    "import seaborn as sns\n",
    "\n",
    "# Carregar os dados\n",
    "file_path = '/mnt/data/aml_fraud_risk_simulated_v1.csv'\n",
    "df = pd.read_csv(file_path)\n",
    "df.head()"
   ]
  },
  {
   "cell_type": "markdown",
   "id": "4889e788",
   "metadata": {},
   "source": [
    "## Informações Gerais\n",
    "Aqui analisamos dimensões, tipos de dados e valores ausentes."
   ]
  },
  {
   "cell_type": "code",
   "execution_count": null,
   "id": "3a15850f",
   "metadata": {},
   "outputs": [],
   "source": [
    "df.info()"
   ]
  },
  {
   "cell_type": "code",
   "execution_count": null,
   "id": "727ff563",
   "metadata": {},
   "outputs": [],
   "source": [
    "df.describe()"
   ]
  },
  {
   "cell_type": "code",
   "execution_count": null,
   "id": "87901ac9",
   "metadata": {},
   "outputs": [],
   "source": [
    "df.isnull().sum()"
   ]
  },
  {
   "cell_type": "markdown",
   "id": "1ec4f04e",
   "metadata": {},
   "source": [
    "## Distribuição de Variáveis\n",
    "Visualizações para entender a distribuição de valores."
   ]
  },
  {
   "cell_type": "code",
   "execution_count": null,
   "id": "f4031e76",
   "metadata": {},
   "outputs": [],
   "source": [
    "plt.figure(figsize=(10, 6))\n",
    "df['amount'].hist(bins=50)\n",
    "plt.title('Distribuição de Valores de Transações')\n",
    "plt.xlabel('Valor (USD)')\n",
    "plt.ylabel('Frequência')\n",
    "plt.grid(True)\n",
    "plt.show()"
   ]
  },
  {
   "cell_type": "code",
   "execution_count": null,
   "id": "cf92d599",
   "metadata": {},
   "outputs": [],
   "source": [
    "plt.figure(figsize=(10, 6))\n",
    "sns.countplot(data=df, x='origin_country', order=df['origin_country'].value_counts().index)\n",
    "plt.title('Origem das Transações')\n",
    "plt.ylabel('Contagem')\n",
    "plt.grid(True)\n",
    "plt.show()"
   ]
  },
  {
   "cell_type": "markdown",
   "id": "8bdb9701",
   "metadata": {},
   "source": [
    "## Correlação entre variáveis numéricas"
   ]
  },
  {
   "cell_type": "code",
   "execution_count": null,
   "id": "44451879",
   "metadata": {},
   "outputs": [],
   "source": [
    "plt.figure(figsize=(10, 6))\n",
    "sns.heatmap(df.corr(numeric_only=True), annot=True, cmap='coolwarm', fmt='.2f')\n",
    "plt.title('Matriz de Correlação')\n",
    "plt.show()"
   ]
  },
  {
   "cell_type": "markdown",
   "id": "20c1bbd2",
   "metadata": {},
   "source": [
    "### Próximos passos:\n",
    "- Criar score manual de risco com base em regras simples\n",
    "- Gerar coluna `manual_risk_score`\n",
    "- Analisar comportamento de alto risco"
   ]
  }
 ],
 "metadata": {
  "kernelspec": {
   "display_name": "Python 3",
   "name": "python3"
  }
 },
 "nbformat": 4,
 "nbformat_minor": 5
}
