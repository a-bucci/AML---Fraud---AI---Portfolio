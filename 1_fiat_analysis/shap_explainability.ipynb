{
 "cells": [
  {
   "cell_type": "markdown",
   "id": "008dd0c9",
   "metadata": {},
   "source": [
    "# Explicabilidade do Modelo com SHAP\n",
    "Neste notebook vamos aplicar SHAP para entender por que o modelo classificou cada transação como baixo, médio ou alto risco."
   ]
  },
  {
   "cell_type": "code",
   "execution_count": null,
   "id": "1bbe29fd",
   "metadata": {},
   "outputs": [],
   "source": [
    "import pandas as pd\n",
    "import shap\n",
    "from sklearn.model_selection import train_test_split\n",
    "from sklearn.ensemble import RandomForestClassifier\n",
    "import matplotlib.pyplot as plt\n",
    "\n",
    "# Carregar a base com score manual\n",
    "file_path = '/mnt/data/aml_fraud_scored_manual.csv'\n",
    "df = pd.read_csv(file_path)"
   ]
  },
  {
   "cell_type": "code",
   "execution_count": null,
   "id": "03297e11",
   "metadata": {},
   "outputs": [],
   "source": [
    "df['manual_risk_score'] = df['manual_risk_score'].map({'low': 0, 'medium': 1, 'high': 2})\n",
    "df = df.dropna(subset=['manual_risk_score'])"
   ]
  },
  {
   "cell_type": "markdown",
   "id": "092fa782",
   "metadata": {},
   "source": [
    "## Selecionar variáveis e treinar modelo novamente"
   ]
  },
  {
   "cell_type": "code",
   "execution_count": null,
   "id": "c9bd83a9",
   "metadata": {},
   "outputs": [],
   "source": [
    "features = ['amount', 'account_age_days', 'transaction_hour', 'customer_risk_score']\n",
    "X = df[features]\n",
    "y = df['manual_risk_score']\n",
    "\n",
    "X_train, X_test, y_train, y_test = train_test_split(X, y, test_size=0.3, random_state=42)\n",
    "model = RandomForestClassifier(random_state=42)\n",
    "model.fit(X_train, y_train)"
   ]
  },
  {
   "cell_type": "markdown",
   "id": "b0d9c88a",
   "metadata": {},
   "source": [
    "## Aplicar SHAP"
   ]
  },
  {
   "cell_type": "code",
   "execution_count": null,
   "id": "f95400da",
   "metadata": {},
   "outputs": [],
   "source": [
    "explainer = shap.TreeExplainer(model)\n",
    "shap_values = explainer.shap_values(X_test)"
   ]
  },
  {
   "cell_type": "markdown",
   "id": "e3f32323",
   "metadata": {},
   "source": [
    "## Visualização Global - Importância das variáveis"
   ]
  },
  {
   "cell_type": "code",
   "execution_count": null,
   "id": "87128fa8",
   "metadata": {},
   "outputs": [],
   "source": [
    "shap.summary_plot(shap_values, X_test)"
   ]
  },
  {
   "cell_type": "markdown",
   "id": "584fc4fb",
   "metadata": {},
   "source": [
    "## Visualização Individual - Por que uma transação foi classificada como risco alto, médio ou baixo?"
   ]
  },
  {
   "cell_type": "code",
   "execution_count": null,
   "id": "b6be5118",
   "metadata": {},
   "outputs": [],
   "source": [
    "# Escolher um exemplo específico\n",
    "sample = X_test.iloc[0:1]\n",
    "shap.initjs()\n",
    "shap.force_plot(explainer.expected_value[1], shap_values[1][0], sample)"
   ]
  }
 ],
 "metadata": {
  "kernelspec": {
   "display_name": "Python 3",
   "name": "python3"
  }
 },
 "nbformat": 4,
 "nbformat_minor": 5
}
