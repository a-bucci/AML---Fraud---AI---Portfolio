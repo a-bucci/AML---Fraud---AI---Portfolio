{
 "cells": [
  {
   "cell_type": "markdown",
   "id": "1110f34d",
   "metadata": {},
   "source": [
    "# Criação de Score Manual de Risco\n",
    "Neste notebook vamos gerar uma coluna de score de risco com base em regras simples de negócio."
   ]
  },
  {
   "cell_type": "code",
   "execution_count": null,
   "id": "5cbc8a4f",
   "metadata": {},
   "outputs": [],
   "source": [
    "import pandas as pd\n",
    "\n",
    "# Carregar os dados\n",
    "file_path = '/mnt/data/aml_fraud_risk_simulated_v1.csv'\n",
    "df = pd.read_csv(file_path)"
   ]
  },
  {
   "cell_type": "markdown",
   "id": "bca7bbd4",
   "metadata": {},
   "source": [
    "## Regras de risco\n",
    "- Valores altos (> 5000 USD): alto risco\n",
    "- Países específicos: alto risco\n",
    "- Transações noturnas: médio risco"
   ]
  },
  {
   "cell_type": "code",
   "execution_count": null,
   "id": "242e7a77",
   "metadata": {},
   "outputs": [],
   "source": [
    "# Exemplo de score baseado em regras\n",
    "high_risk_countries = ['RU', 'NG', 'CN']\n",
    "\n",
    "def classify_risk(row):\n",
    "    if row['amount'] > 5000 or row['origin_country'] in high_risk_countries:\n",
    "        return 'high'\n",
    "    elif row['hour'] >= 22 or row['hour'] < 6:\n",
    "        return 'medium'\n",
    "    else:\n",
    "        return 'low'\n",
    "\n",
    "# Aplicar função\n",
    "df['manual_risk_score'] = df.apply(classify_risk, axis=1)\n",
    "df['manual_risk_score'].value_counts()"
   ]
  },
  {
   "cell_type": "code",
   "execution_count": null,
   "id": "a65e2f3f",
   "metadata": {},
   "outputs": [],
   "source": [
    "# Salvar o novo arquivo com a coluna criada\n",
    "output_path = '/mnt/data/aml_fraud_scored_manual.csv'\n",
    "df.to_csv(output_path, index=False)\n",
    "print(f\"Arquivo salvo em: {output_path}\")"
   ]
  }
 ],
 "metadata": {
  "kernelspec": {
   "display_name": "Python 3",
   "name": "python3"
  }
 },
 "nbformat": 4,
 "nbformat_minor": 5
}
