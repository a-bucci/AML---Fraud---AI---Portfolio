{
 "cells": [
  {
   "cell_type": "markdown",
   "id": "84af8d19",
   "metadata": {},
   "source": [
    "# Modelo de Machine Learning - Random Forest\n",
    "Neste notebook vamos treinar um modelo para prever o risco de transações com base na classificação manual feita anteriormente."
   ]
  },
  {
   "cell_type": "code",
   "execution_count": null,
   "id": "6c0acd74",
   "metadata": {},
   "outputs": [],
   "source": [
    "import pandas as pd\n",
    "from sklearn.model_selection import train_test_split\n",
    "from sklearn.ensemble import RandomForestClassifier\n",
    "from sklearn.metrics import classification_report, roc_auc_score\n",
    "\n",
    "# Carregar a base com o score manual\n",
    "file_path = '/mnt/data/aml_fraud_scored_manual.csv'\n",
    "df = pd.read_csv(file_path)"
   ]
  },
  {
   "cell_type": "markdown",
   "id": "2f9952e5",
   "metadata": {},
   "source": [
    "## Pré-processamento\n",
    "Transformar os scores manuais em variáveis numéricas."
   ]
  },
  {
   "cell_type": "code",
   "execution_count": null,
   "id": "3c036288",
   "metadata": {},
   "outputs": [],
   "source": [
    "df['manual_risk_score'] = df['manual_risk_score'].map({'low': 0, 'medium': 1, 'high': 2})\n",
    "df = df.dropna(subset=['manual_risk_score'])"
   ]
  },
  {
   "cell_type": "markdown",
   "id": "d67538f0",
   "metadata": {},
   "source": [
    "## Seleção de variáveis\n",
    "Escolher colunas que farão sentido para o modelo."
   ]
  },
  {
   "cell_type": "code",
   "execution_count": null,
   "id": "9195aa40",
   "metadata": {},
   "outputs": [],
   "source": [
    "features = ['amount', 'account_age_days', 'transaction_hour', 'customer_risk_score']\n",
    "X = df[features]\n",
    "y = df['manual_risk_score']"
   ]
  },
  {
   "cell_type": "markdown",
   "id": "0e983da4",
   "metadata": {},
   "source": [
    "## Dividir os dados em treino e teste"
   ]
  },
  {
   "cell_type": "code",
   "execution_count": null,
   "id": "7a31ecce",
   "metadata": {},
   "outputs": [],
   "source": [
    "X_train, X_test, y_train, y_test = train_test_split(X, y, test_size=0.3, random_state=42)"
   ]
  },
  {
   "cell_type": "markdown",
   "id": "b79367d5",
   "metadata": {},
   "source": [
    "## Treinar o modelo"
   ]
  },
  {
   "cell_type": "code",
   "execution_count": null,
   "id": "23ca26dd",
   "metadata": {},
   "outputs": [],
   "source": [
    "model = RandomForestClassifier(random_state=42)\n",
    "model.fit(X_train, y_train)"
   ]
  },
  {
   "cell_type": "markdown",
   "id": "169a4231",
   "metadata": {},
   "source": [
    "## Avaliar o modelo"
   ]
  },
  {
   "cell_type": "code",
   "execution_count": null,
   "id": "7598bdc4",
   "metadata": {},
   "outputs": [],
   "source": [
    "y_pred = model.predict(X_test)\n",
    "y_pred_proba = model.predict_proba(X_test)\n",
    "\n",
    "print(classification_report(y_test, y_pred))\n",
    "print('ROC AUC Score:', roc_auc_score(y_test, y_pred_proba, multi_class='ovr'))"
   ]
  },
  {
   "cell_type": "markdown",
   "id": "e662ed02",
   "metadata": {},
   "source": [
    "### Próximo passo: aplicar SHAP para explicar por que o modelo classificou determinadas transações como risco alto, médio ou baixo."
   ]
  }
 ],
 "metadata": {
  "kernelspec": {
   "display_name": "Python 3",
   "name": "python3"
  }
 },
 "nbformat": 4,
 "nbformat_minor": 5
}
